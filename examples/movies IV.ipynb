{
  "cells": [
    {
      "cell_type": "markdown",
      "metadata": {
        "id": "view-in-github",
        "colab_type": "text"
      },
      "source": [
        "<a href=\"https://colab.research.google.com/github/gchrist6/484midterm/blob/main/examples/movies%20IV.ipynb\" target=\"_parent\"><img src=\"https://colab.research.google.com/assets/colab-badge.svg\" alt=\"Open In Colab\"/></a>"
      ]
    },
    {
      "cell_type": "code",
      "execution_count": 1,
      "metadata": {
        "id": "bCfxffcRLeP3",
        "colab": {
          "base_uri": "https://localhost:8080/"
        },
        "outputId": "cd198902-3af9-45ef-c608-0b0c4a4ab8de"
      },
      "outputs": [
        {
          "output_type": "stream",
          "name": "stdout",
          "text": [
            "Cloning into 'econ484'...\n",
            "remote: Enumerating objects: 387, done.\u001b[K\n",
            "remote: Counting objects: 100% (99/99), done.\u001b[K\n",
            "remote: Compressing objects: 100% (62/62), done.\u001b[K\n",
            "remote: Total 387 (delta 69), reused 37 (delta 37), pack-reused 288 (from 1)\u001b[K\n",
            "Receiving objects: 100% (387/387), 13.93 MiB | 6.26 MiB/s, done.\n",
            "Resolving deltas: 100% (158/158), done.\n",
            "/content/econ484/utilities\n",
            "/content/econ484/data\n"
          ]
        }
      ],
      "source": [
        "# Import necessary libraries\n",
        "!git clone https://github.com/brighamfrandsen/econ484.git\n",
        "%cd econ484/utilities\n",
        "from preamble import *\n",
        "%cd ../data"
      ]
    },
    {
      "cell_type": "markdown",
      "metadata": {
        "id": "gzWRbYOjLAIr"
      },
      "source": [
        "# Example: Instrumental Variables Estimation of the Effect of Social Spillovers on Movie-going"
      ]
    },
    {
      "cell_type": "markdown",
      "metadata": {
        "id": "bTaCceX9LAIs"
      },
      "source": [
        "This notebook will illustrate the entire supervised machine learning process in the context of predicting movie attendance based on the weather on opening weekend."
      ]
    },
    {
      "cell_type": "markdown",
      "metadata": {
        "id": "nmC-h_PvLAIs"
      },
      "source": [
        "### Figure out your question"
      ]
    },
    {
      "cell_type": "markdown",
      "metadata": {
        "id": "HZ62RUB5LAIt"
      },
      "source": [
        "What is the effect of opening-weekend attendance on subsequent weekend attendance at a movie?"
      ]
    },
    {
      "cell_type": "markdown",
      "metadata": {
        "id": "gfaGY7UHLAIt"
      },
      "source": [
        "## Obtain a labeled dataset"
      ]
    },
    {
      "cell_type": "code",
      "execution_count": 2,
      "metadata": {
        "id": "4mQtzrcRLAIu"
      },
      "outputs": [],
      "source": [
        "import pandas as pd\n",
        "import numpy as np"
      ]
    },
    {
      "cell_type": "code",
      "execution_count": 3,
      "metadata": {
        "id": "E1XtvSKZLAIx",
        "colab": {
          "base_uri": "https://localhost:8080/"
        },
        "outputId": "0fcaf4ed-587d-4c50-b7d3-fb5730946302"
      },
      "outputs": [
        {
          "output_type": "stream",
          "name": "stdout",
          "text": [
            "   x_openingsales  open_res_own_snow_6  open_res_own_snow_0  \\\n",
            "0            0.44             3.55e-02             2.87e-02   \n",
            "1            2.06             1.41e-03            -7.78e-04   \n",
            "2            1.52             3.93e-03             1.13e-02   \n",
            "3            5.89             1.05e-01             1.26e-01   \n",
            "4            3.57             7.20e-02             9.29e-02   \n",
            "\n",
            "   open_res_own_rain_6  ...  open_res_own_prec_4_0  open_res_own_prec_5_6  \\\n",
            "0                 0.11  ...               2.34e-02               1.36e-02   \n",
            "1                 0.04  ...              -1.08e-02              -2.52e-02   \n",
            "2                 0.12  ...              -1.23e-02              -1.97e-03   \n",
            "3                 0.15  ...               8.02e-03               6.22e-02   \n",
            "4                -0.05  ...              -2.46e-03              -4.70e-03   \n",
            "\n",
            "   open_res_own_prec_5_0  y_ticketsales  \n",
            "0               6.82e-02           0.23  \n",
            "1              -2.41e-02           1.29  \n",
            "2              -1.67e-02           0.97  \n",
            "3               5.90e-02           3.22  \n",
            "4              -3.57e-03           2.35  \n",
            "\n",
            "[5 rows x 54 columns]\n",
            "Shape: (1671, 54)\n"
          ]
        }
      ],
      "source": [
        "moviedata=pd.read_csv('./movies_cleaned.csv')\n",
        "print(moviedata.head())\n",
        "print(\"Shape: {}\".format(str(moviedata.shape)))"
      ]
    },
    {
      "cell_type": "markdown",
      "metadata": {
        "id": "VttS4Ca0LAIz"
      },
      "source": [
        "Let's define our \"label\" (y) vector, our \"treatment\" vector (d), and our instrument matrix (Z):"
      ]
    },
    {
      "cell_type": "code",
      "execution_count": 4,
      "metadata": {
        "id": "rv0M75IWLAIz",
        "colab": {
          "base_uri": "https://localhost:8080/"
        },
        "outputId": "3a43c15d-c1d3-4c8b-a2f2-539534f89d87"
      },
      "outputs": [
        {
          "output_type": "stream",
          "name": "stdout",
          "text": [
            "our y vector is:\n",
            " <bound method NDFrame.head of 0       0.23\n",
            "1       1.29\n",
            "2       0.97\n",
            "3       3.22\n",
            "4       2.35\n",
            "        ... \n",
            "1666    3.46\n",
            "1667    3.37\n",
            "1668    1.83\n",
            "1669    1.15\n",
            "1670    1.05\n",
            "Name: y_ticketsales, Length: 1671, dtype: float64>\n",
            "our d vector is:\n",
            " <bound method NDFrame.head of       x_openingsales\n",
            "0               0.44\n",
            "1               2.06\n",
            "2               1.52\n",
            "3               5.89\n",
            "4               3.57\n",
            "...              ...\n",
            "1666            9.75\n",
            "1667            6.29\n",
            "1668            2.91\n",
            "1669            1.67\n",
            "1670            3.03\n",
            "\n",
            "[1671 rows x 1 columns]>\n",
            "our instrument matrix is:\n",
            " <bound method NDFrame.head of       open_res_own_snow_6  open_res_own_snow_0  open_res_own_rain_6  \\\n",
            "0                3.55e-02             2.87e-02                 0.11   \n",
            "1                1.41e-03            -7.78e-04                 0.04   \n",
            "2                3.93e-03             1.13e-02                 0.12   \n",
            "3                1.05e-01             1.26e-01                 0.15   \n",
            "4                7.20e-02             9.29e-02                -0.05   \n",
            "...                   ...                  ...                  ...   \n",
            "1666            -3.11e-02            -3.22e-02                -0.06   \n",
            "1667            -3.11e-02            -3.22e-02                -0.06   \n",
            "1668             5.84e-02             4.69e-02                -0.08   \n",
            "1669             5.84e-02             4.69e-02                -0.08   \n",
            "1670             5.84e-02             4.69e-02                -0.08   \n",
            "\n",
            "      open_res_own_rain_0  ...  open_res_own_prec_4_6  open_res_own_prec_4_0  \\\n",
            "0                7.11e-02  ...               1.75e-02               2.34e-02   \n",
            "1               -8.57e-02  ...              -1.08e-02              -1.08e-02   \n",
            "2               -3.41e-03  ...               2.33e-02              -1.23e-02   \n",
            "3                1.21e-01  ...               2.40e-02               8.02e-03   \n",
            "4               -1.23e-01  ...              -2.53e-03              -2.46e-03   \n",
            "...                   ...  ...                    ...                    ...   \n",
            "1666            -3.65e-02  ...               2.00e-04              -6.41e-03   \n",
            "1667            -3.65e-02  ...               2.00e-04              -6.41e-03   \n",
            "1668            -1.31e-01  ...              -3.85e-03              -3.78e-03   \n",
            "1669            -1.31e-01  ...              -3.85e-03              -3.78e-03   \n",
            "1670            -1.31e-01  ...              -3.85e-03              -3.78e-03   \n",
            "\n",
            "      open_res_own_prec_5_6  open_res_own_prec_5_0  \n",
            "0                  1.36e-02               6.82e-02  \n",
            "1                 -2.52e-02              -2.41e-02  \n",
            "2                 -1.97e-03              -1.67e-02  \n",
            "3                  6.22e-02               5.90e-02  \n",
            "4                 -4.70e-03              -3.57e-03  \n",
            "...                     ...                    ...  \n",
            "1666              -2.78e-03              -1.42e-03  \n",
            "1667              -2.78e-03              -1.42e-03  \n",
            "1668              -1.14e-03              -4.49e-06  \n",
            "1669              -1.14e-03              -4.49e-06  \n",
            "1670              -1.14e-03              -4.49e-06  \n",
            "\n",
            "[1671 rows x 52 columns]>\n"
          ]
        }
      ],
      "source": [
        "y = moviedata.loc[:,'y_ticketsales']\n",
        "d = moviedata.loc[:,['x_openingsales']]\n",
        "Z = moviedata.filter(like='open_',axis=1)\n",
        "print('our y vector is:\\n',y.head)\n",
        "print('our d vector is:\\n',d.head)\n",
        "print('our instrument matrix is:\\n',Z.head)"
      ]
    },
    {
      "cell_type": "markdown",
      "metadata": {
        "id": "Mz_KFucyLAI1"
      },
      "source": [
        "## Start with OLS of y on d. Be sure to print import necessary packages and print out coefficients!"
      ]
    },
    {
      "cell_type": "markdown",
      "metadata": {
        "id": "5JkIkrXLD9tZ"
      },
      "source": [
        "### Try yourself first!"
      ]
    },
    {
      "cell_type": "code",
      "execution_count": 5,
      "metadata": {
        "id": "Dcbm056vECAo",
        "colab": {
          "base_uri": "https://localhost:8080/"
        },
        "outputId": "0341d2b8-f565-40d8-faea-29ef8ddd1a2d"
      },
      "outputs": [
        {
          "output_type": "stream",
          "name": "stdout",
          "text": [
            "OLS coefficient:  [0.471]\n"
          ]
        }
      ],
      "source": [
        "from sklearn import linear_model\n",
        "ols = linear_model.LinearRegression().fit(d,y)\n",
        "print('OLS coefficient: ',ols.coef_)"
      ]
    },
    {
      "cell_type": "markdown",
      "metadata": {
        "id": "Yz_yQe_fED-H"
      },
      "source": [
        "### Cheat if you need to"
      ]
    },
    {
      "cell_type": "code",
      "execution_count": null,
      "metadata": {
        "id": "aq1fmWdjLAI2"
      },
      "outputs": [],
      "source": [
        "from sklearn import linear_model\n",
        "\n",
        "ols = linear_model.LinearRegression().fit(d,y)\n",
        "print('OLS coefficient: ',ols.coef_)"
      ]
    },
    {
      "cell_type": "markdown",
      "metadata": {
        "id": "wuZh-g9SLAI4"
      },
      "source": [
        "## Now do \"manual\" two-stage least squares where you first regress d on Z, obtain predicted values, then regress y on the predicted values. Be sure to print out final coefficient on d-hat!"
      ]
    },
    {
      "cell_type": "markdown",
      "metadata": {
        "id": "8ZTmzjfJEOoi"
      },
      "source": [
        "### Try yourself first"
      ]
    },
    {
      "cell_type": "code",
      "execution_count": null,
      "metadata": {
        "id": "xMhPvrwUETWC"
      },
      "outputs": [],
      "source": []
    },
    {
      "cell_type": "markdown",
      "metadata": {
        "id": "4OwFh4ZaEUlR"
      },
      "source": [
        "### Cheat if you need to"
      ]
    },
    {
      "cell_type": "code",
      "execution_count": 6,
      "metadata": {
        "id": "8wkQST25LAI4",
        "colab": {
          "base_uri": "https://localhost:8080/"
        },
        "outputId": "1c05c806-278b-42e2-848b-785cc0a12f6f"
      },
      "outputs": [
        {
          "output_type": "stream",
          "name": "stdout",
          "text": [
            "2SLS coefficient:  [0.552]\n"
          ]
        }
      ],
      "source": [
        "\n",
        "ols_fs = ols.fit(Z,d)\n",
        "dhat = ols_fs.predict(Z)\n",
        "tsls = ols.fit(dhat,y)\n",
        "\n",
        "print('2SLS coefficient: ',tsls.coef_)\n"
      ]
    },
    {
      "cell_type": "markdown",
      "metadata": {
        "id": "1NbHlQq6LAI6"
      },
      "source": [
        "## Now do ML-augmented two-stage least squares using Random Forest to obtain the fitted values"
      ]
    },
    {
      "cell_type": "markdown",
      "metadata": {
        "id": "FXvhRSEKEkqG"
      },
      "source": [
        "###Try yourself first"
      ]
    },
    {
      "cell_type": "code",
      "execution_count": null,
      "metadata": {
        "id": "lBAv8dojEnXI"
      },
      "outputs": [],
      "source": [
        "# import necessary packages and create prediction \"object\"\n",
        "\n",
        "# first grow random forest:\n",
        "\n",
        "# now get random forest predictions to use as instrument:\n",
        "\n",
        "# do \"first stage\" using random forest predictions as instrument:\n",
        "\n",
        "# finally, 2nd stage regression:\n"
      ]
    },
    {
      "cell_type": "markdown",
      "metadata": {
        "id": "gydX7SQnEn4H"
      },
      "source": [
        "### Cheat"
      ]
    },
    {
      "cell_type": "code",
      "execution_count": 17,
      "metadata": {
        "id": "cnlGCM31Jqhm",
        "colab": {
          "base_uri": "https://localhost:8080/"
        },
        "outputId": "89d79d3b-71ba-4f52-e949-81de7dcb1312"
      },
      "outputs": [
        {
          "output_type": "stream",
          "name": "stderr",
          "text": [
            "/usr/local/lib/python3.11/dist-packages/sklearn/base.py:1389: DataConversionWarning: A column-vector y was passed when a 1d array was expected. Please change the shape of y to (n_samples,), for example using ravel().\n",
            "  return fit_method(estimator, *args, **kwargs)\n"
          ]
        },
        {
          "output_type": "stream",
          "name": "stdout",
          "text": [
            "2SLS+Random Forest coefficient:  [0.447]\n"
          ]
        }
      ],
      "source": [
        "# import necessary packages and create prediction \"object\"\n",
        "from sklearn.ensemble import RandomForestRegressor\n",
        "rf = RandomForestRegressor(max_depth=2,max_features='sqrt')\n",
        "# first grow random forest:\n",
        "rf.fit(Z,d)\n",
        "# now get random forest predictions to use as instrument:\n",
        "dtilde=rf.predict(Z)\n",
        "# do \"first stage\" using random forest predictions as instrument:\n",
        "fs_rf=ols.fit(dtilde.reshape(-1,1),d)\n",
        "dhat_rf=fs_rf.predict(dtilde.reshape(-1,1))\n",
        "# finally, 2nd stage regression:\n",
        "tsls_rf=ols.fit(dhat_rf,y)\n",
        "print('2SLS+Random Forest coefficient: ',tsls_rf.coef_)"
      ]
    },
    {
      "cell_type": "markdown",
      "metadata": {
        "id": "K-6n2i-JFy-k"
      },
      "source": [
        "##Now do Belloni, Chernozhukov, Hansen Post-Lasso 2SLS"
      ]
    },
    {
      "cell_type": "markdown",
      "metadata": {
        "id": "yhlMf_FDHEWj"
      },
      "source": [
        "### Try yourself first"
      ]
    },
    {
      "cell_type": "code",
      "execution_count": null,
      "metadata": {
        "id": "sScVyTNZHG-3"
      },
      "outputs": [],
      "source": [
        "# hint 1: don't forget to scale the Zs before doing Lasso\n",
        "#why standardize, lasso is sensitive to scale of coeff\n",
        "# hint 2: to select the columns of a matrix corresponding to a set of nonzero coefficients, you can do something like:\n",
        "# Z_selected = Z[:,model.coef_!=0]"
      ]
    },
    {
      "cell_type": "code",
      "source": [
        "from sklearn.preprocessing import StandardScaler\n",
        "scaler = StandardScaler()\n",
        "scaler.fit(Z)\n",
        "Z_scaled = scaler.transform(Z)\n",
        "\n",
        "from sklea\n"
      ],
      "metadata": {
        "colab": {
          "base_uri": "https://localhost:8080/",
          "height": 383
        },
        "id": "2X_pLWzjMDYJ",
        "outputId": "e92291a5-b766-44c0-caa0-1681b74c155f"
      },
      "execution_count": 15,
      "outputs": [
        {
          "output_type": "error",
          "ename": "ImportError",
          "evalue": "cannot import name 'Lasso' from 'sklearn' (/usr/local/lib/python3.11/dist-packages/sklearn/__init__.py)",
          "traceback": [
            "\u001b[0;31m---------------------------------------------------------------------------\u001b[0m",
            "\u001b[0;31mImportError\u001b[0m                               Traceback (most recent call last)",
            "\u001b[0;32m<ipython-input-15-e045b977b855>\u001b[0m in \u001b[0;36m<cell line: 0>\u001b[0;34m()\u001b[0m\n\u001b[1;32m      4\u001b[0m \u001b[0mZ_scaled\u001b[0m \u001b[0;34m=\u001b[0m \u001b[0mscaler\u001b[0m\u001b[0;34m.\u001b[0m\u001b[0mtransform\u001b[0m\u001b[0;34m(\u001b[0m\u001b[0mZ\u001b[0m\u001b[0;34m)\u001b[0m\u001b[0;34m\u001b[0m\u001b[0;34m\u001b[0m\u001b[0m\n\u001b[1;32m      5\u001b[0m \u001b[0;34m\u001b[0m\u001b[0m\n\u001b[0;32m----> 6\u001b[0;31m \u001b[0;32mfrom\u001b[0m \u001b[0msklearn\u001b[0m \u001b[0;32mimport\u001b[0m \u001b[0mLasso\u001b[0m\u001b[0;34m\u001b[0m\u001b[0;34m\u001b[0m\u001b[0m\n\u001b[0m\u001b[1;32m      7\u001b[0m \u001b[0mlasso\u001b[0m\u001b[0;34m=\u001b[0m\u001b[0mLasso\u001b[0m\u001b[0;34m(\u001b[0m\u001b[0malpha\u001b[0m\u001b[0;34m=\u001b[0m\u001b[0;36m.1\u001b[0m\u001b[0;34m)\u001b[0m\u001b[0;34m\u001b[0m\u001b[0;34m\u001b[0m\u001b[0m\n\u001b[1;32m      8\u001b[0m \u001b[0mlasso\u001b[0m\u001b[0;34m.\u001b[0m\u001b[0mfit\u001b[0m\u001b[0;34m(\u001b[0m\u001b[0mZ_scaled\u001b[0m\u001b[0;34m,\u001b[0m\u001b[0md\u001b[0m\u001b[0;34m)\u001b[0m\u001b[0;34m\u001b[0m\u001b[0;34m\u001b[0m\u001b[0m\n",
            "\u001b[0;31mImportError\u001b[0m: cannot import name 'Lasso' from 'sklearn' (/usr/local/lib/python3.11/dist-packages/sklearn/__init__.py)",
            "",
            "\u001b[0;31m---------------------------------------------------------------------------\u001b[0;32m\nNOTE: If your import is failing due to a missing package, you can\nmanually install dependencies using either !pip or !apt.\n\nTo view examples of installing some common dependencies, click the\n\"Open Examples\" button below.\n\u001b[0;31m---------------------------------------------------------------------------\u001b[0m\n"
          ],
          "errorDetails": {
            "actions": [
              {
                "action": "open_url",
                "actionText": "Open Examples",
                "url": "/notebooks/snippets/importing_libraries.ipynb"
              }
            ]
          }
        }
      ]
    },
    {
      "cell_type": "markdown",
      "metadata": {
        "id": "vJqQvvjdHIHm"
      },
      "source": [
        "### Cheat"
      ]
    },
    {
      "cell_type": "code",
      "execution_count": 19,
      "metadata": {
        "id": "YJZIyzOuHKN2",
        "colab": {
          "base_uri": "https://localhost:8080/"
        },
        "outputId": "93478ddc-be32-4524-afd0-34ec46124a6a"
      },
      "outputs": [
        {
          "output_type": "stream",
          "name": "stderr",
          "text": [
            "/usr/local/lib/python3.11/dist-packages/sklearn/linear_model/_coordinate_descent.py:1664: DataConversionWarning: A column-vector y was passed when a 1d array was expected. Please change the shape of y to (n_samples, ), for example using ravel().\n",
            "  y = column_or_1d(y, warn=True)\n"
          ]
        },
        {
          "output_type": "stream",
          "name": "stdout",
          "text": [
            "[-0. -0. -0. -0.  0. -0.  0. -0.  0.  0.  0. -0. -0. -0. -0. -0. -0. -0.\n",
            " -0. -0.  0.  0.  0.  0.  0.  0.  0.  0. -0. -0. -0. -0. -0. -0.  0.  0.\n",
            "  0.  0.  0.  0.  0.  0. -0. -0. -0. -0.  0. -0.  0. -0. -0. -0.]\n",
            "Post-Lasso 2SLS coefficient:  [0.505]\n",
            "[-0. -0. -0. -0.  0. -0.  0. -0.  0.  0.  0. -0. -0. -0. -0. -0. -0. -0.\n",
            " -0. -0.  0.  0.  0.  0.  0.  0.  0.  0. -0. -0. -0. -0. -0. -0.  0.  0.\n",
            "  0.  0.  0.  0.  0.  0. -0. -0. -0. -0.  0. -0.  0. -0. -0. -0.]\n"
          ]
        }
      ],
      "source": [
        "# Lasso tends to work better with standardized variables, so:\n",
        "from sklearn.preprocessing import StandardScaler\n",
        "scaler = StandardScaler()\n",
        "scaler.fit(Z)\n",
        "Z_scaled = scaler.transform(Z)\n",
        "\n",
        "# create lasso object, setting the penalty parameter\n",
        "lasso=linear_model.LassoCV()\n",
        "\n",
        "# predict d using Z_scaled:\n",
        "lasso.fit(Z_scaled,d)\n",
        "print(lasso.coef_)\n",
        "# grab just the Zs with nonzero coeffs\n",
        "Z_selected=Z_scaled[:,lasso.coef_!=0]\n",
        "\n",
        "# do the first stage regression via OLS using the selected Zs and get the fitted values:\n",
        "postlasso_fs = ols.fit(Z_selected,d)\n",
        "dhat_postlasso = postlasso_fs.predict(Z_selected)\n",
        "\n",
        "# do 2nd stage regression using the post-lasso fitted values:\n",
        "tsls_postlasso = ols.fit(dhat_postlasso,y)\n",
        "print('Post-Lasso 2SLS coefficient: ',tsls_postlasso.coef_)\n",
        "print(lasso.coef_)\n"
      ]
    },
    {
      "cell_type": "code",
      "execution_count": null,
      "metadata": {
        "id": "S0sM-1CWILuG"
      },
      "outputs": [],
      "source": []
    },
    {
      "cell_type": "markdown",
      "metadata": {
        "id": "EZ0b7ysqKuhE"
      },
      "source": [
        "## Now go back to ML-augmented 2SLS and try with several different prediction methods"
      ]
    },
    {
      "cell_type": "code",
      "execution_count": null,
      "metadata": {
        "id": "7M9ddYhiK0g3"
      },
      "outputs": [],
      "source": [
        "#JIVE\n",
        "#STATA jive y_ticketsales ( x_openingsales = open_*)"
      ]
    }
  ],
  "metadata": {
    "colab": {
      "collapsed_sections": [
        "Yz_yQe_fED-H",
        "vJqQvvjdHIHm"
      ],
      "provenance": [],
      "include_colab_link": true
    },
    "kernelspec": {
      "display_name": "Python 3",
      "language": "python",
      "name": "python3"
    },
    "language_info": {
      "codemirror_mode": {
        "name": "ipython",
        "version": 3
      },
      "file_extension": ".py",
      "mimetype": "text/x-python",
      "name": "python",
      "nbconvert_exporter": "python",
      "pygments_lexer": "ipython3",
      "version": "3.6.9"
    },
    "latex_metadata": {
      "author": "Andreas C. M\\\"ller",
      "title": "Machine Learning with Python"
    }
  },
  "nbformat": 4,
  "nbformat_minor": 0
}